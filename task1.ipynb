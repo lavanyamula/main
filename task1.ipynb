{
 "cells": [
  {
   "cell_type": "code",
   "execution_count": 6,
   "id": "ace28b80-f36f-4382-96fa-ce665a34b882",
   "metadata": {},
   "outputs": [
    {
     "name": "stdin",
     "output_type": "stream",
     "text": [
      "Enter your query (e.g., 'from page 3 get tables data'):  page6\n"
     ]
    },
    {
     "name": "stdout",
     "output_type": "stream",
     "text": [
      "Tables found on page 6:\n",
      "\n",
      "Table 1:\n",
      "Year | 2010 | 2011 | 2012 | 2013 | 2014 | 2015\n",
      "All Industries | 26093515 | 27535971 | 28663246 | 29601191 | 30895407 | 31397023\n",
      "Manufacturing | 4992521 | 5581942 | 5841608 | 5953299 | 6047477 | 5829554\n",
      "Finance,\n",
      "Insurance, Real\n",
      "Estate, Rental,\n",
      "Leasing | 4522451 | 4618678 | 4797313 | 5031881 | 5339678 | 5597018\n",
      "Arts,\n",
      "Entertainment,\n",
      "Recreation,\n",
      "Accommodation,\n",
      "and Food Service | 964032 | 1015238 | 1076249 | 1120496 | 1189646 | 1283813\n",
      "Other | 15614511 | 16320113 | 16948076 | 17495515 | 18318606 | 18686638\n",
      "\n"
     ]
    }
   ],
   "source": [
    "import pdfplumber\n",
    "\n",
    "def extract_tables_from_page(pdf_path, page_number):\n",
    "    \"\"\"Extract tables from a specified page in the PDF.\"\"\"\n",
    "    with pdfplumber.open(pdf_path) as pdf:\n",
    "        if page_number < 0 or page_number >= len(pdf.pages):\n",
    "            return None  # Return None if the page number is out of range\n",
    "        page = pdf.pages[page_number]\n",
    "        tables = page.extract_tables()\n",
    "        return tables\n",
    "\n",
    "def format_table_output(tables):\n",
    "    \"\"\"Format the output of the extracted tables for display.\"\"\"\n",
    "    output = \"\"\n",
    "    if tables:\n",
    "        for i, table in enumerate(tables):\n",
    "            output += f\"\\nTable {i + 1}:\\n\"\n",
    "            for row in table:\n",
    "                output += \" | \".join(str(cell) for cell in row) + \"\\n\"\n",
    "    else:\n",
    "        output += \"No tables found on this page.\"\n",
    "    return output\n",
    "\n",
    "def handle_query(user_query, pdf_path):\n",
    "    \"\"\"Handle the user's query to extract tables from the specified page.\"\"\"\n",
    "    try:\n",
    "        # Extract the page number from the user query\n",
    "        page_number = int(user_query.split(\"page\")[1].strip()) - 1  # Convert to zero-based index\n",
    "    except (IndexError, ValueError):\n",
    "        return \"Invalid query format. Please specify a valid page number.\"\n",
    "\n",
    "    # Extract tables from the specified page\n",
    "    tables = extract_tables_from_page(pdf_path, page_number)\n",
    "    if tables is None:\n",
    "        return f\"The specified page {page_number + 1} does not exist in the PDF.\"\n",
    "\n",
    "    # Prepare the response with formatted table output\n",
    "    response = f\"Tables found on page {page_number + 1}:\\n\"\n",
    "    response += format_table_output(tables)\n",
    "    return response\n",
    "\n",
    "if __name__ == \"__main__\":\n",
    "    # Path to your PDF file\n",
    "    pdf_path = r\"C:\\Users\\Sande\\OneDrive\\文档\\indu\\lavanya aiml\\Tables.pdf\"  # Replace with your PDF file path\n",
    "\n",
    "    # Prompt the user for a query\n",
    "    user_query = input(\"Enter your query (e.g., 'from page 3 get tables data'): \")\n",
    "    response = handle_query(user_query, pdf_path)\n",
    "    print(response)\n"
   ]
  },
  {
   "cell_type": "code",
   "execution_count": 2,
   "id": "f18f817c-3c99-49ec-8b8a-a570f50ff5a1",
   "metadata": {},
   "outputs": [
    {
     "name": "stdout",
     "output_type": "stream",
     "text": [
      "Requirement already satisfied: pdfplumber in c:\\users\\sande\\appdata\\local\\programs\\python\\python312\\lib\\site-packages (0.11.4)Note: you may need to restart the kernel to use updated packages.\n",
      "\n",
      "Requirement already satisfied: pdfminer.six==20231228 in c:\\users\\sande\\appdata\\local\\programs\\python\\python312\\lib\\site-packages (from pdfplumber) (20231228)\n",
      "Requirement already satisfied: Pillow>=9.1 in c:\\users\\sande\\appdata\\local\\programs\\python\\python312\\lib\\site-packages (from pdfplumber) (11.0.0)\n",
      "Requirement already satisfied: pypdfium2>=4.18.0 in c:\\users\\sande\\appdata\\local\\programs\\python\\python312\\lib\\site-packages (from pdfplumber) (4.30.0)\n",
      "Requirement already satisfied: charset-normalizer>=2.0.0 in c:\\users\\sande\\appdata\\local\\programs\\python\\python312\\lib\\site-packages (from pdfminer.six==20231228->pdfplumber) (3.4.0)\n",
      "Requirement already satisfied: cryptography>=36.0.0 in c:\\users\\sande\\appdata\\local\\programs\\python\\python312\\lib\\site-packages (from pdfminer.six==20231228->pdfplumber) (44.0.0)\n",
      "Requirement already satisfied: cffi>=1.12 in c:\\users\\sande\\appdata\\local\\programs\\python\\python312\\lib\\site-packages (from cryptography>=36.0.0->pdfminer.six==20231228->pdfplumber) (1.17.1)\n",
      "Requirement already satisfied: pycparser in c:\\users\\sande\\appdata\\local\\programs\\python\\python312\\lib\\site-packages (from cffi>=1.12->cryptography>=36.0.0->pdfminer.six==20231228->pdfplumber) (2.22)\n"
     ]
    }
   ],
   "source": [
    "pip install pdfplumber\n"
   ]
  },
  {
   "cell_type": "code",
   "execution_count": null,
   "id": "5602c83f-6ae4-49d7-82ab-df6dfbcfef56",
   "metadata": {},
   "outputs": [],
   "source": []
  }
 ],
 "metadata": {
  "kernelspec": {
   "display_name": "Python 3 (ipykernel)",
   "language": "python",
   "name": "python3"
  },
  "language_info": {
   "codemirror_mode": {
    "name": "ipython",
    "version": 3
   },
   "file_extension": ".py",
   "mimetype": "text/x-python",
   "name": "python",
   "nbconvert_exporter": "python",
   "pygments_lexer": "ipython3",
   "version": "3.12.8"
  }
 },
 "nbformat": 4,
 "nbformat_minor": 5
}
