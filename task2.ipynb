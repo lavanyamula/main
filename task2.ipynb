{
 "cells": [
  {
   "cell_type": "code",
   "execution_count": null,
   "id": "72eb212c-050f-4cc5-a0f1-0e7d548c3987",
   "metadata": {},
   "outputs": [
    {
     "name": "stdout",
     "output_type": "stream",
     "text": [
      "Request error occurred: 403 Client Error: Forbidden for url: https://www.uchicago.edu/\n",
      "Successfully scraped content from https://www.washington.edu/\n",
      "Successfully scraped content from https://www.stanford.edu/\n",
      "Successfully scraped content from https://und.edu/\n"
     ]
    }
   ],
   "source": [
    "import requests\n",
    "from bs4 import BeautifulSoup\n",
    "import re\n",
    "\n",
    "def scrape_website(url):\n",
    "    try:\n",
    "        response = requests.get(url, timeout=10)\n",
    "        response.raise_for_status()\n",
    "        soup = BeautifulSoup(response.text, 'html.parser')\n",
    "        text_content = soup.get_text(separator=' ', strip=True)\n",
    "        return text_content\n",
    "    except requests.exceptions.SSLError as ssl_err:\n",
    "        print(f\"SSL error occurred: {ssl_err}\")\n",
    "    except requests.exceptions.RequestException as req_err:\n",
    "        print(f\"Request error occurred: {req_err}\")\n",
    "    except Exception as e:\n",
    "        print(f\"An error occurred: {e}\")\n",
    "\n",
    "def answer_query(query, scraped_data):\n",
    "    results = []\n",
    "    pattern = re.compile(re.escape(query), re.IGNORECASE) # Compile regex pattern\n",
    "    for url, content in scraped_data.items():\n",
    "        if pattern.search(content): # Use regex search\n",
    "            results.append((url, content))\n",
    "    return results\n",
    "\n",
    "# Example usage\n",
    "urls = [\n",
    "    \"https://www.uchicago.edu/\",\n",
    "    \"https://www.washington.edu/\",\n",
    "    \"https://www.stanford.edu/\",\n",
    "    \"https://und.edu/\"\n",
    "]\n",
    "\n",
    "scraped_data = {}\n",
    "for url in urls:\n",
    "    content = scrape_website(url)\n",
    "    if content:\n",
    "        print(f\"Successfully scraped content from {url}\")\n",
    "        scraped_data[url] = content\n",
    "\n",
    "user_query = input(\"Enter your query: \")\n",
    "results = answer_query(user_query, scraped_data)\n",
    "\n",
    "if results:\n",
    "    print(\"\\nResults found:\")\n",
    "    for url, content in results:\n",
    "        print(f\"\\nFrom {url}:\\n{content[:200]}...\")\n",
    "else:\n",
    "    print(\"No results found for your query.\")\n"
   ]
  },
  {
   "cell_type": "code",
   "execution_count": null,
   "id": "eab5422c-7711-4863-b197-38a51c7d3e70",
   "metadata": {},
   "outputs": [],
   "source": []
  },
  {
   "cell_type": "code",
   "execution_count": 4,
   "id": "58d82c37-29dd-4f0f-bb76-6a0446ed9834",
   "metadata": {},
   "outputs": [
    {
     "ename": "ModuleNotFoundError",
     "evalue": "No module named 'pdfplumber'",
     "output_type": "error",
     "traceback": [
      "\u001b[1;31m---------------------------------------------------------------------------\u001b[0m",
      "\u001b[1;31mModuleNotFoundError\u001b[0m                       Traceback (most recent call last)",
      "Cell \u001b[1;32mIn[4], line 1\u001b[0m\n\u001b[1;32m----> 1\u001b[0m \u001b[38;5;28;01mimport\u001b[39;00m \u001b[38;5;21;01mpdfplumber\u001b[39;00m\n\u001b[0;32m      3\u001b[0m \u001b[38;5;28;01mdef\u001b[39;00m \u001b[38;5;21mextract_tables_from_page\u001b[39m(pdf_path, page_number):\n\u001b[0;32m      4\u001b[0m \u001b[38;5;250m    \u001b[39m\u001b[38;5;124;03m\"\"\"Extract tables from a specified page in the PDF.\"\"\"\u001b[39;00m\n",
      "\u001b[1;31mModuleNotFoundError\u001b[0m: No module named 'pdfplumber'"
     ]
    }
   ],
   "source": []
  },
  {
   "cell_type": "code",
   "execution_count": null,
   "id": "1ff42e28-7628-4a1f-abb2-71d84a18073e",
   "metadata": {},
   "outputs": [],
   "source": []
  }
 ],
 "metadata": {
  "kernelspec": {
   "display_name": "Python 3 (ipykernel)",
   "language": "python",
   "name": "python3"
  },
  "language_info": {
   "codemirror_mode": {
    "name": "ipython",
    "version": 3
   },
   "file_extension": ".py",
   "mimetype": "text/x-python",
   "name": "python",
   "nbconvert_exporter": "python",
   "pygments_lexer": "ipython3",
   "version": "3.12.8"
  }
 },
 "nbformat": 4,
 "nbformat_minor": 5
}
